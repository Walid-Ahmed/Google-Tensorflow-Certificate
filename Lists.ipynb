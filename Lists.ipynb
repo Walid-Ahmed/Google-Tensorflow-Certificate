{
  "nbformat": 4,
  "nbformat_minor": 0,
  "metadata": {
    "colab": {
      "name": "Lists.ipynb",
      "provenance": [],
      "authorship_tag": "ABX9TyPsaZv3YFw5jEdph8kEqa8y",
      "include_colab_link": true
    },
    "kernelspec": {
      "name": "python3",
      "display_name": "Python 3"
    }
  },
  "cells": [
    {
      "cell_type": "markdown",
      "metadata": {
        "id": "view-in-github",
        "colab_type": "text"
      },
      "source": [
        "<a href=\"https://colab.research.google.com/github/Walid-Ahmed/Google-Tensorflow-Certificate/blob/master/Lists.ipynb\" target=\"_parent\"><img src=\"https://colab.research.google.com/assets/colab-badge.svg\" alt=\"Open In Colab\"/></a>"
      ]
    },
    {
      "cell_type": "markdown",
      "metadata": {
        "id": "nWmC2Ph2xdnl"
      },
      "source": [
        "# List indexing\n"
      ]
    },
    {
      "cell_type": "code",
      "metadata": {
        "id": "fLIUB2yRniRg",
        "outputId": "3c1b392b-bc66-4a7d-f578-1425869155f8",
        "colab": {
          "base_uri": "https://localhost:8080/",
          "height": 68
        }
      },
      "source": [
        "# List indexing\n",
        " \n",
        "my_list = ['p', 'r', 'o', 'b', 'e']\n",
        " \n",
        "# Output: p\n",
        "print(my_list[0])\n",
        " \n",
        "# Output: o\n",
        "print(my_list[2])\n",
        " \n",
        "# Output: e\n",
        "print(my_list[4])"
      ],
      "execution_count": null,
      "outputs": [
        {
          "output_type": "stream",
          "text": [
            "p\n",
            "o\n",
            "e\n"
          ],
          "name": "stdout"
        }
      ]
    },
    {
      "cell_type": "markdown",
      "metadata": {
        "id": "MWYEWzV0xk0Q"
      },
      "source": [
        "# Negative indexing in lists"
      ]
    },
    {
      "cell_type": "code",
      "metadata": {
        "id": "Ohe8myQdolcF",
        "outputId": "43a922eb-6d62-44c2-e7f7-b6c7339a5f06",
        "colab": {
          "base_uri": "https://localhost:8080/",
          "height": 51
        }
      },
      "source": [
        "# Negative indexing in lists\n",
        "my_list = ['p','r','o','b','e']\n",
        "\n",
        "print(my_list[-1])\n",
        "\n",
        "print(my_list[-5])"
      ],
      "execution_count": null,
      "outputs": [
        {
          "output_type": "stream",
          "text": [
            "e\n",
            "p\n"
          ],
          "name": "stdout"
        }
      ]
    },
    {
      "cell_type": "markdown",
      "metadata": {
        "id": "td6uo1_Ew1XP"
      },
      "source": [
        "# List slicing in Python"
      ]
    },
    {
      "cell_type": "code",
      "metadata": {
        "id": "kNPZh0uVoliM",
        "outputId": "d25b4e51-3f27-416a-c5cf-49c3aeb6cb58",
        "colab": {
          "base_uri": "https://localhost:8080/",
          "height": 170
        }
      },
      "source": [
        "# List slicing in Python\n",
        "\n",
        "my_list = [0,1,2,3,4,5,6,7,8,9,10]\n",
        "\n",
        "# elements 3rd to 5th\n",
        "print(my_list[2:5])\n",
        "\n",
        "# elements beginning to 4th\n",
        "print(my_list[:-5])\n",
        "\n",
        "# elements 6th to end\n",
        "print(my_list[5:])\n",
        "\n",
        "# elements beginning to end\n",
        "print(my_list[:])\n",
        "\n",
        "#All elemnts but the last\n",
        "print(my_list[0:-1])\n",
        "print(my_list[:-1])\n",
        "\n",
        "#Last elemnt\n",
        "print(my_list[-1:])\n",
        "\n",
        "#from second to last element\n",
        "print(my_list[2:])\n",
        "\n",
        "#from second to before last element\n",
        "print(my_list[2:-1])"
      ],
      "execution_count": 3,
      "outputs": [
        {
          "output_type": "stream",
          "text": [
            "[2, 3, 4]\n",
            "[0, 1, 2, 3, 4, 5]\n",
            "[5, 6, 7, 8, 9, 10]\n",
            "[0, 1, 2, 3, 4, 5, 6, 7, 8, 9, 10]\n",
            "[0, 1, 2, 3, 4, 5, 6, 7, 8, 9]\n",
            "[0, 1, 2, 3, 4, 5, 6, 7, 8, 9]\n",
            "[10]\n",
            "[2, 3, 4, 5, 6, 7, 8, 9, 10]\n",
            "[2, 3, 4, 5, 6, 7, 8, 9]\n"
          ],
          "name": "stdout"
        }
      ]
    },
    {
      "cell_type": "markdown",
      "metadata": {
        "id": "0ooMsa5vyHb9"
      },
      "source": [
        "# List Comprehension: Elegant way to create new List\n"
      ]
    },
    {
      "cell_type": "code",
      "metadata": {
        "id": "Noe291OHyH6n"
      },
      "source": [
        "List Comprehension: Elegant way to create new List\n"
      ],
      "execution_count": null,
      "outputs": []
    },
    {
      "cell_type": "markdown",
      "metadata": {
        "id": "67PY0NvryNDQ"
      },
      "source": [
        "List comprehension is an elegant and concise way to create a new list from an existing list in Python.\n",
        "\n",
        "A list comprehension consists of an expression followed by for statement inside square brackets.\n",
        "\n",
        "Here is an example to make a list with each item being increasing power of 2"
      ]
    },
    {
      "cell_type": "code",
      "metadata": {
        "id": "vpI45HMBySPY",
        "outputId": "8ea1e6c7-f419-47de-8417-ac065d274bcc",
        "colab": {
          "base_uri": "https://localhost:8080/",
          "height": 34
        }
      },
      "source": [
        "pow2 = [2 ** x for x in range(10)]\n",
        "print(pow2)"
      ],
      "execution_count": null,
      "outputs": [
        {
          "output_type": "stream",
          "text": [
            "[1, 2, 4, 8, 16, 32, 64, 128, 256, 512]\n"
          ],
          "name": "stdout"
        }
      ]
    },
    {
      "cell_type": "markdown",
      "metadata": {
        "id": "9XLvAibLybNo"
      },
      "source": [
        "## Iterating through a List\n"
      ]
    },
    {
      "cell_type": "code",
      "metadata": {
        "id": "SX3o-al4ydtB",
        "outputId": "0ac2e172-e2f4-4ca2-8ae1-49b3c3fef6aa",
        "colab": {
          "base_uri": "https://localhost:8080/",
          "height": 68
        }
      },
      "source": [
        "for fruit in ['apple','banana','mango']:\n",
        "    print(\"I like\",fruit)"
      ],
      "execution_count": null,
      "outputs": [
        {
          "output_type": "stream",
          "text": [
            "I like apple\n",
            "I like banana\n",
            "I like mango\n"
          ],
          "name": "stdout"
        }
      ]
    }
  ]
}