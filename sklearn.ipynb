{
  "nbformat": 4,
  "nbformat_minor": 0,
  "metadata": {
    "colab": {
      "name": "sklearn.ipynb",
      "provenance": [],
      "authorship_tag": "ABX9TyOmvj1NH6mEp8O3In/3B2jk",
      "include_colab_link": true
    },
    "kernelspec": {
      "name": "python3",
      "display_name": "Python 3"
    }
  },
  "cells": [
    {
      "cell_type": "markdown",
      "metadata": {
        "id": "view-in-github",
        "colab_type": "text"
      },
      "source": [
        "<a href=\"https://colab.research.google.com/github/Walid-Ahmed/Google-Tensorflow-Certificate/blob/master/sklearn.ipynb\" target=\"_parent\"><img src=\"https://colab.research.google.com/assets/colab-badge.svg\" alt=\"Open In Colab\"/></a>"
      ]
    },
    {
      "cell_type": "code",
      "metadata": {
        "id": "02RdG6t2AxQQ",
        "colab_type": "code",
        "colab": {}
      },
      "source": [
        "import sklearn\n",
        "import numpy as np"
      ],
      "execution_count": 9,
      "outputs": []
    },
    {
      "cell_type": "markdown",
      "metadata": {
        "id": "paGhpuUTBYo0",
        "colab_type": "text"
      },
      "source": [
        "#Shuffling Dataset"
      ]
    },
    {
      "cell_type": "code",
      "metadata": {
        "id": "JOeLCmw8AhEK",
        "colab_type": "code",
        "colab": {
          "base_uri": "https://localhost:8080/",
          "height": 68
        },
        "outputId": "315b13f7-dfe5-4237-c3a6-b4996a5b7236"
      },
      "source": [
        "X = np.array([[1., 0.], [2., 1.], [0., 0.]])\n",
        "y = np.array([0, 1, 2])\n",
        "\n",
        "X, y = sklearn.utils.shuffle(X, y, random_state=1)\n",
        "\n",
        "for inp,out in zip(X, y):\n",
        "  print(inp,out)"
      ],
      "execution_count": 12,
      "outputs": [
        {
          "output_type": "stream",
          "text": [
            "[1. 0.] 0\n",
            "[0. 0.] 2\n",
            "[2. 1.] 1\n"
          ],
          "name": "stdout"
        }
      ]
    }
  ]
}