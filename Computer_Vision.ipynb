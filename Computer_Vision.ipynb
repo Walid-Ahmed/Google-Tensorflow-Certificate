{
  "nbformat": 4,
  "nbformat_minor": 0,
  "metadata": {
    "colab": {
      "name": "Computer_Vision.ipynb",
      "provenance": [],
      "authorship_tag": "ABX9TyNgNg7knZnBGOuf6PvruJS6",
      "include_colab_link": true
    },
    "kernelspec": {
      "name": "python3",
      "display_name": "Python 3"
    }
  },
  "cells": [
    {
      "cell_type": "markdown",
      "metadata": {
        "id": "view-in-github",
        "colab_type": "text"
      },
      "source": [
        "<a href=\"https://colab.research.google.com/github/Walid-Ahmed/Google-Tensorflow-Certificate/blob/master/Computer_Vision.ipynb\" target=\"_parent\"><img src=\"https://colab.research.google.com/assets/colab-badge.svg\" alt=\"Open In Colab\"/></a>"
      ]
    },
    {
      "cell_type": "markdown",
      "metadata": {
        "id": "1-eIDgCxfdDy"
      },
      "source": [
        "#Import Statments"
      ]
    },
    {
      "cell_type": "code",
      "metadata": {
        "id": "trVoTsBkflyw"
      },
      "source": [
        "import tensorflow as tf\n",
        "import numpy as np"
      ],
      "execution_count": 3,
      "outputs": []
    },
    {
      "cell_type": "markdown",
      "metadata": {
        "id": "9D8XK1wygUmg"
      },
      "source": [
        "# Sample Models"
      ]
    },
    {
      "cell_type": "code",
      "metadata": {
        "id": "VD4cJZYzgYIQ",
        "outputId": "636162ca-3252-45c0-8c47-de4bf47d2380",
        "colab": {
          "base_uri": "https://localhost:8080/",
          "height": 187
        }
      },
      "source": [
        "model = tf.keras.models.Sequential([\n",
        "    tf.keras.layers.Dense(1, input_shape=[1], activation=None), \n",
        "])\n",
        "model.summary() "
      ],
      "execution_count": 7,
      "outputs": [
        {
          "output_type": "stream",
          "text": [
            "Model: \"sequential_2\"\n",
            "_________________________________________________________________\n",
            "Layer (type)                 Output Shape              Param #   \n",
            "=================================================================\n",
            "dense_2 (Dense)              (None, 1)                 2         \n",
            "=================================================================\n",
            "Total params: 2\n",
            "Trainable params: 2\n",
            "Non-trainable params: 0\n",
            "_________________________________________________________________\n"
          ],
          "name": "stdout"
        }
      ]
    },
    {
      "cell_type": "markdown",
      "metadata": {
        "id": "Q8SdoHCMgMEi"
      },
      "source": [
        "# Example: House Price Prediction "
      ]
    },
    {
      "cell_type": "markdown",
      "metadata": {
        "id": "cx1PtuL5g9VS"
      },
      "source": [
        "\n",
        "So, imagine if house pricing was as easy as a house costs 50k + 50k per bedroom, so that a 1 bedroom house costs 100k, a 2 bedroom house costs 150k etc.\n",
        "\n",
        "How would you create a neural network that learns this relationship so that it would predict a 7 bedroom house as costing close to 400k etc.\n",
        "\n",
        "Hint: Your network might work better if you scale the house price down. You don't have to give the answer 400...it might be better to create something that predicts the number 4, and then your answer is in the 'hundreds of thousands' etc.\n"
      ]
    },
    {
      "cell_type": "code",
      "metadata": {
        "id": "FDQxTlNde4QT"
      },
      "source": [
        "def house_model(y_new):\n",
        "    #xs = np.asarray([0,1,2,3,4,5,6,7,9,10])\n",
        "    xs = np.array([0,  1, 2, 3, 4, 5], dtype=float)\n",
        "\n",
        "    #ys = 50000 + 50000*xs \n",
        "    ys = 0.5 + 0.5*xs \n",
        "\n",
        "\n",
        "    \n",
        "    model = tf.keras.models.Sequential([\n",
        "    tf.keras.layers.Dense(1, input_shape=[1], activation=None), \n",
        "\n",
        "])\n",
        "    \n",
        "    \n",
        "\n",
        "    \n",
        "    \n",
        "    model.summary()\n",
        "\n",
        "    model.compile(optimizer=\"sgd\", loss=\"mean_squared_error\")\n",
        "    model.fit(xs,ys,batch_size = 2, epochs = 100,verbose=0)\n",
        "    return model.predict(y_new)[0]"
      ],
      "execution_count": 4,
      "outputs": []
    },
    {
      "cell_type": "code",
      "metadata": {
        "id": "0_-7219Xf-HU",
        "outputId": "b06a0204-8abf-4e42-c970-8c01e279e145",
        "colab": {
          "base_uri": "https://localhost:8080/",
          "height": 204
        }
      },
      "source": [
        "prediction = house_model([7.0])\n",
        "print(prediction)"
      ],
      "execution_count": 5,
      "outputs": [
        {
          "output_type": "stream",
          "text": [
            "Model: \"sequential\"\n",
            "_________________________________________________________________\n",
            "Layer (type)                 Output Shape              Param #   \n",
            "=================================================================\n",
            "dense (Dense)                (None, 1)                 2         \n",
            "=================================================================\n",
            "Total params: 2\n",
            "Trainable params: 2\n",
            "Non-trainable params: 0\n",
            "_________________________________________________________________\n",
            "[3.9901578]\n"
          ],
          "name": "stdout"
        }
      ]
    }
  ]
}